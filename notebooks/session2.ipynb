{
 "cells": [
  {
   "cell_type": "markdown",
   "metadata": {},
   "source": [
    "# Language Analytics - Session 2 - Text mining and string processing"
   ]
  },
  {
   "cell_type": "code",
   "execution_count": 4,
   "metadata": {},
   "outputs": [],
   "source": [
    "colours = [\"red\", \"green\", \"blue\"]"
   ]
  },
  {
   "cell_type": "code",
   "execution_count": 5,
   "metadata": {},
   "outputs": [
    {
     "data": {
      "text/plain": [
       "['red', 'green', 'blue']"
      ]
     },
     "execution_count": 5,
     "metadata": {},
     "output_type": "execute_result"
    }
   ],
   "source": [
    "colours"
   ]
  },
  {
   "cell_type": "markdown",
   "metadata": {},
   "source": [
    "### ``for`` loop"
   ]
  },
  {
   "cell_type": "code",
   "execution_count": 6,
   "metadata": {},
   "outputs": [
    {
     "name": "stdout",
     "output_type": "stream",
     "text": [
      "red\n",
      "green\n",
      "blue\n"
     ]
    }
   ],
   "source": [
    "for colour in colours:\n",
    "    print(colour)"
   ]
  },
  {
   "cell_type": "code",
   "execution_count": 9,
   "metadata": {},
   "outputs": [
    {
     "name": "stdout",
     "output_type": "stream",
     "text": [
      "RED!!\n",
      "GREEN!!\n",
      "BLUE!!\n"
     ]
    }
   ],
   "source": [
    "for colour in colours:\n",
    "    print(colour.upper()+ \"!!\")"
   ]
  },
  {
   "cell_type": "code",
   "execution_count": 10,
   "metadata": {},
   "outputs": [
    {
     "name": "stdout",
     "output_type": "stream",
     "text": [
      "RED!!\n",
      "GREEN!!\n",
      "BLUE!!\n"
     ]
    }
   ],
   "source": [
    "for colour in colours:\n",
    "    shouted_colour = colour.upper()+ \"!!\"\n",
    "    print(shouted_colour)"
   ]
  },
  {
   "cell_type": "code",
   "execution_count": 16,
   "metadata": {},
   "outputs": [
    {
     "name": "stdout",
     "output_type": "stream",
     "text": [
      "RED!!\n",
      "GREEN!!\n",
      "BLUE!!\n"
     ]
    }
   ],
   "source": [
    "shouted_colours = [] #empty list\n",
    "\n",
    "# for each colour in the list called colours\n",
    "for colour in colours:\n",
    "    # make it upper case and add exclamations marks\n",
    "    shouted_colour = colour.upper()+ \"!!\"\n",
    "    # add this to the external list\n",
    "    shouted_colours.append(shouted_colour)\n",
    "    # print to screen\n",
    "    print(shouted_colour)\n",
    "\n"
   ]
  },
  {
   "cell_type": "code",
   "execution_count": 19,
   "metadata": {},
   "outputs": [
    {
     "name": "stdout",
     "output_type": "stream",
     "text": [
      "['RED!!', 'GREEN!!', 'BLUE!!']\n"
     ]
    }
   ],
   "source": [
    "print(shouted_colours)"
   ]
  },
  {
   "cell_type": "markdown",
   "metadata": {},
   "source": [
    "### ``if/else``"
   ]
  },
  {
   "cell_type": "code",
   "execution_count": 23,
   "metadata": {},
   "outputs": [
    {
     "name": "stdout",
     "output_type": "stream",
     "text": [
      "red\n",
      "GREEN!!\n",
      "blue\n"
     ]
    }
   ],
   "source": [
    "for colour in colours:\n",
    "    if colour == \"green\":\n",
    "        print(colour.upper()+ \"!!\")\n",
    "    else: \n",
    "        print(colour)"
   ]
  },
  {
   "cell_type": "code",
   "execution_count": 25,
   "metadata": {},
   "outputs": [
    {
     "name": "stdout",
     "output_type": "stream",
     "text": [
      "*red*\n",
      "GREEN!!\n",
      "blue\n"
     ]
    }
   ],
   "source": [
    "for colour in colours:\n",
    "    if colour == \"green\":\n",
    "        print(colour.upper()+ \"!!\")\n",
    "    elif colour == \"red\":\n",
    "        print(\"*\"+colour+ \"*\")\n",
    "    else: \n",
    "        print(colour)"
   ]
  },
  {
   "cell_type": "code",
   "execution_count": 31,
   "metadata": {},
   "outputs": [],
   "source": [
    "weird_list = [\"red\", \"green\", 10, \"blue\"]"
   ]
  },
  {
   "cell_type": "code",
   "execution_count": 32,
   "metadata": {},
   "outputs": [
    {
     "name": "stdout",
     "output_type": "stream",
     "text": [
      "Not a number!\n",
      "Not a number!\n",
      "5.0\n",
      "Not a number!\n"
     ]
    }
   ],
   "source": [
    "#if/else function with exception\n",
    "for value in weird_list:\n",
    "    if type(value) == int:\n",
    "        print(value/2)\n",
    "    else:\n",
    "        print(\"Not a number!\")\n"
   ]
  },
  {
   "cell_type": "code",
   "execution_count": 33,
   "metadata": {},
   "outputs": [
    {
     "name": "stdout",
     "output_type": "stream",
     "text": [
      "5.0\n"
     ]
    }
   ],
   "source": [
    "#if/else function with exception and pass\n",
    "for value in weird_list:\n",
    "    if type(value) == int:\n",
    "        print(value/2)\n",
    "    else:\n",
    "        pass"
   ]
  },
  {
   "cell_type": "markdown",
   "metadata": {},
   "source": [
    "### Exception handling"
   ]
  },
  {
   "cell_type": "code",
   "execution_count": 34,
   "metadata": {},
   "outputs": [
    {
     "name": "stdout",
     "output_type": "stream",
     "text": [
      "Not a number!\n",
      "Not a number!\n",
      "5.0\n",
      "Not a number!\n"
     ]
    }
   ],
   "source": [
    "for value in weird_list:\n",
    "    try:\n",
    "        print(value/2)\n",
    "    except:\n",
    "        print(\"Not a number!\")"
   ]
  }
 ],
 "metadata": {
  "kernelspec": {
   "display_name": "Python 3",
   "language": "python",
   "name": "python3"
  },
  "language_info": {
   "codemirror_mode": {
    "name": "ipython",
    "version": 3
   },
   "file_extension": ".py",
   "mimetype": "text/x-python",
   "name": "python",
   "nbconvert_exporter": "python",
   "pygments_lexer": "ipython3",
   "version": "3.10.12"
  }
 },
 "nbformat": 4,
 "nbformat_minor": 2
}
